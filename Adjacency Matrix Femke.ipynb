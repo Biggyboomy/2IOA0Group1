{
 "cells": [
  {
   "cell_type": "code",
   "execution_count": 22,
   "metadata": {},
   "outputs": [
    {
     "name": "stdout",
     "output_type": "stream",
     "text": [
      "['Jim_Thomas', 'Eleftherios_Koutsofios', 'Lawrence_A._Rowe', 'Jonathan_I._Helfman', 'Mary_Brewster', 'Min_Chen', 'Christopher_G._Healey', 'Mac_Holden', 'M._Gray', 'Jason_Stewart', 'Volker_Vogelmann', 'Benjamin_B._Bederson', 'Maureen_Tingley', 'C._K._Yung', 'S._Joy_Mountford', 'L._D._Bergman', 'Rich_Gossweiler', 'M._Maruyama', 'David_P._Helmbold', 'C._Dunmire', 'C._C._Gomberg', 'Allison_Woodruff', 'Karlis_Kaugars', 'Jeffrey_Brainerd', 'Claudia_Schmid', 'Ken_Perrine', 'Ishantha_Lokuge', 'M._Weiser', 'Kevin_Teixeira', 'François_Robillard', 'Monika_Gorkani', 'C._Shaw', 'Issei_Fujishiro', 'J._J._Thomas', 'Diane_T._Rover', 'Quang_Vinh_Nguyen', 'Praveen_R._Thiagarajan', 'Stephen_G._Kobourov', 'Christian_Panse', 'Chris_Hendrickson_Octavia_Juarez_Espinosa', 'N._D._Geddes', 'Klaus_Mueller', 'Thomas_Ball', 'Hans_Hinterberger', 'R._Brath', 'King-Ip_Lin', 'Christian_Uhrig', 'Haim_Levkowitz', 'James_T._Enns', 'James_Landay', 'P._Gros', 'Kurt_Mehlhorn', 'Robert_Cohen', 'Lloyd_A._Treinish', 'Benoît_Hudson', 'Scott_A._Guyer', 'Todd_C._Plessel', 'Elizabeth_Jurrus', 'D._L._Gresh', 'Bradley_W._Halversen', 'Robin_Lampert', 'Mei_Chuah', 'Jing_Yang', 'Tim_McCandless', 'Edgar_Chávez', 'Mary_Jean_Harrold', 'Scott_S._Snibbe', 'A._Zwa', 'Colin_Ware', 'Mark_J._Stefik', 'Frank_Van_Ham', 'Norma_Lopez', 'Jeffrey_Scott_Vitter', 'Polle_T._Zellweger', 'Alistair_Morrison', 'D._Christopher_Dryer', 'Oren_J._Tversky', 'Jitendra_Malik', 'Qian_Huang', 'Christopher_Williamson', 'Shari_Lawrence_Pfleeger', 'George_S._Davidson', 'Xuemin_Lin', 'Barry_G._Becker', 'Manojit_Sarkar', 'Huub_van_de_Wetering', 'Mitch_B._Grunes', 'Huw_Dawkes', 'Rika_Furuhata', 'Vannevar_Bush', 'Daniel_P._Huttenlocher', 'Joseph_Konstan', 'Mary_Baker', 'H._A._Mueller', 'Ioannis_G._Tollis', 'Alan_M._MacEachren', 'Edward_A._Stohr', 'Daniel_C._Robbins', 'Jeff_Zacks', 'Clement_T._Yu', 'K._Claffy', 'Michelle_X._Zhou', 'Jan_O._Pedersen', 'Chris_Buckley', 'Jonathan_D._Beche', 'Brian_Unger', 'Piotr_Indyk', 'Paul_G._Kelaita', 'Gonzalo_Navarro', 'Pak_Chung_Wong', 'A._F._Hasler', 'Steven_F._Roth', 'K._Beyer', 'Thomas_H._Cormen', 'Ravinder_Bhogal', 'Joel_Winstead', 'Arun_N._Swami', 'Larry_Dane_Brimner', 'John_L._Sibert', 'David_Cline', 'Dave_Wroblewski', 'R._Mitchell', 'Ken-ichi_Okada', 'Bruce_Hendrickson', 'Mike_Craven', 'Randall_B._Smith', 'Aristides_Gionis', 'Blaine_A._Price', 'Yoram_Moses', 'David_Ungar', 'Andrew_W._Appel', 'Henry_Lieberman', 'Kenneth_P._Birman', 'Marc_Levoy', 'Dan_Gusfield', 'Gareth_Smith', 'R._Kevin_McCabe', 'Masahiro_Takatsuka', 'Brad_A._Myers', 'Seth_Widoff', 'Daniel_Keim', 'Kenneth_Utting', 'Ted_Selker', 'Gabor_T._Herman', 'Laxmi_Parida', 'Jeannine_Pinto', 'Jonathan_Furner', 'Clayton_Lewis', 'Francis_P._Boscoe', 'Ian_M._Soboroff', 'Yutaka_Matsushita', 'Giuseppe_Liotta', 'Murali_Venkatrao', 'M._Pichler', 'Noriko_Ukai', 'L._Zhang', 'Blair_MacIntyre', 'Paul_Whitney', 'Chris_Hand', 'Aravindan_Veerasamy', 'Samuel_Bayer', 'Gustova_Stolovitzky', 'Eileen_Kraemer', 'M._R._Ilgen', 'Silvia_Miksch', 'M._D._Apperley', 'Michael_Spenke', 'Marc_Kaltenbach', 'T._Leibfried', 'M._L._Matthews', 'Stefan_Berchtold', 'Yen-Ping_Shan', 'Dan_Platt', 'Thomas_Seidl', 'Leslie_Lamport', 'Marc_Weber', 'Allen_D._Maloney', 'Scott_Hudson', 'D._A._Roberts', 'Hamid_Pirahesh', 'Peter_Ørbæk', 'Chuck_Thier', 'M._Nitzberg', 'Chris_Olston', 'Wojciech_Basalaj', 'Yehuda_Koren', 'Lyn_Bartram', 'James_Pitkow', 'Gordon_V._Bancroft', 'James_A._Wise', 'Andrew_Layman', 'Jessie_B._Kennedy', 'R._Beale', 'James_A._Jones', 'Nancy_Miller', 'Peter_Braun', 'D._F._Scollan', 'Alex_Pang', 'Joemon_M._Jose', 'Michael_D._Byrne', 'Surajit_Chaudhuri', 'K._Pennock', 'Clifford_Stein', 'Hadi_Abdo', 'Trevor_J._Davis', 'Hen', 'Ugur_Dogrusöz', 'Gene_Golovchinsky', 'Thomas_Berlage', 'Michel_Beaudouin-Lafon', 'D._A._Rushall', 'Andrew_Witkin', 'Alexander_S._Szalay', 'Angela_Boltman', 'Hus_Su', 'Danyel_Fisher', 'Xia_Lin', 'Thomas_Kamps', 'Dragutin_Petkovic', 'Mark_Phillips', 'D._B._Rex', 'Richard_G._Palmer', 'Yannis_E._Ioannidis', 'Carsten_Friedrich', 'Jefrey_Vroom', 'Abigail_Sellen', 'Jon_Louis_Bentley', 'Sougata_Mukherjea', 'B._Fenner', 'James_Agutter', 'Dan_Shapiro', 'David_Strayer', 'Markus_H._Gross', 'Frank_Pellow', 'Frits_H._Post', 'Deborah_R._Fowler', 'C._K._Wong', 'William_C._Wake', 'E._A._Sonenberg', 'Margaret-Anne_D._Storey', 'David_S._Ebert', 'Maureen_C._Stone', 'Bay-Wei_Chang', 'Roger_Crawfis', 'David_C._M._Wood', 'David_Schlegel', 'T._Teraoka', 'Heidrun_Schumann', 'Earl_Rennison', 'K._C._Cox', 'Kenneth_Wood', 'Marylyn_E._McGill', 'J._G._Hollands', 'Anton_Eliëns', 'Vincent_A._Guarna_Jr.', 'Carl_Burnham', 'John_Paul_Shen', 'Richard_A._Becker', 'Daniel_M._Russell', 'Bernd_Lintermann', 'Brian_N._Wylie', 'Marc-Antoine_Parent', 'Thomas_J._Overbye', 'Naoki_Shibata', 'Frank_M._Shipman_III', 'Luc_Devroye', 'Tian_Zhang', 'T._Strasser', 'Sven_Moen', 'Hans-Peter_Kriegel', 'P._Abel', 'Allen_Van_Gelder', 'George_Otto', 'Fusako_Hirabayashi', 'Robert_R._Korfhage', 'D._Donjerkovic', 'Wendy_S._Ark', 'David_Beard', 'Staffan_Björk', 'Allen_R._Martin', 'C._A._Burton', 'Kellogg_S._Booth', 'Alexander_Aiken', 'Miron_Livny', 'Jonathan_Ashley', 'Varun_Saini', 'J._P._Paris', 'Tom_Meyer', 'Kristofer_Franzén', 'Matthew_A._Goldberg', 'Naeem_Shareef', 'Steve_Bryson', 'Bill_Gates', 'David_K._Johnson', 'Eli_Messinger', 'Patricia_Schank', 'Linda_Pickle', 'B._DasGupta', 'Rudy_P._Darken', 'Peter_Ørbæk', 'Steven_K._Feiner', 'C._A._McCann', 'T._Mihalisin', 'Anne_Brueggemann-Klein', 'Gail_Reynard', 'Woodie_C._Flowers', 'James_H._Garrett_Jr.', 'A._Kaufman', 'Reinhard_Sainitzer', 'Daniel_G._Aliaga', 'Craig_Upson', 'Nicholas_J._Belkin', 'Ivan_Herman', 'David_Carr', 'E._L._Miller', 'Keith_Andrews', 'Kyoji_Hirata', 'Hank_Hoek', 'M._B._Burks', 'Jon_Christensen', 'Ulrik_Brandes', 'Randall_M._Rohrer', 'David_Baraff', 'Emanuel_G._Noik', 'Ayellet_Tal', 'Ivan_Bretan', 'Rodrigo_A._Botafogo', 'V._Anupam', 'Ari_Halberstadt', 'V._Crow', 'Charles_E._Leiserson', 'Gerald_L._Lohse', 'Todd_Barlow', 'S._Utter', 'Maarten_van_Dantzich', 'Alan_Humm', 'Eskinder_Sahle', 'Anand_Rajaraman', 'Mikako_Harada', 'Johannes_Battjes', 'Shumin_Zhai', 'Ying_Li', 'Robert_Schulman', 'John_Campbell', 'Charlie_Gunn', 'T._Alan_Keahey', 'Graham_J._Wills', 'Erik_Wistrand', 'Ronald_L._Rivest', 'Christoph_Pfranger', 'Harlan_Foote', 'Larry_Masinter', 'Herbert_A._Simon', 'Florian_Ledermann', 'Alan_Su', 'Frans_J._M._van_der_Wel', 'Jon_Meyer', 'Francois_Guimbretiere', 'Hidekazu_Shiozawa', 'Danny_Ayers', 'Ron_Davidson', 'M._Chalmers', 'James_F._Blinn', 'A._Badre', 'Noah_Syroid', 'Ben_E._Cline', 'Jian_Huang', 'Klara_Kedem', 'Peter_Yanker', 'Geoffrey_P._Bingham', 'Ying_Feng', 'Steve_Benford', 'Kenneth_P._Herndon', 'Rakesh_Agrawal', 'Cleotilde_Gonzalez', 'Charles_Grant_Brown', 'Helwig_Hauser', 'Lucy_Nowell', 'Guy_Vaysseix', 'A._Wong', 'R._J._Hendley', 'B._H._McCormick', 'Pat_Hanrahan', 'A._M._Wood', 'Albert_Ho', 'Douglas_J._Cork', 'Sharon_J._Laskowski', 'Raymon_Masters', 'Emmanuel_Barillot', 'Jack_Gundrum', 'James_Eagan', 'Robert_DeLine', 'Anselm_Spoerri', 'Anne_Rose', 'Deborah_Hix', 'Andy_Cockburn', 'Joe_Mattis', 'Paul_Burchard', 'Joe_Marks', 'C._Peter_Keller', 'Alvis_Brazma', 'Juris_Reinfelds', 'Myron_Flickner', 'Sharon_R._Garber', 'Alexander_Willett', 'David_Sinclair', 'R._Kazman', 'Saul_A._Teukolsky', 'Karl_Avedal', 'Luca_Vismara', 'Marc_Hansen', 'Tomás_Isakowitz', 'Aris_Floratos', 'Ramana_Rao', 'Aristid_Lindenmayer', 'Ernst_Kleiberg', 'Don_Reichart', 'Henry_C._Lucas_Jr.', 'Roberto_Tamassia', 'Kevin_W._Arthur', 'Neff_Walker', 'Lisa_Tweedie', 'K._Wong', 'Charles_R._Dyer', 'Meichun_Hsu', 'Chang-Sung_Jeong', 'Francesmary_Modugno', 'Barry_Becker', 'Catherine_C._Marshall', 'Craig_M._Wittenbrink', 'A._Teyseyre', 'Peter_Krogh', 'C._Russo_dos_Santos', 'Julio_Bermudez', 'T._Jiang', 'Edward_Tufte', 'Tomihisa_Kamada', 'Gerald_M._Karam', 'Ron_R._Hightower', 'Eric_A._Wernert', 'George_Edward_Pelham_Box', 'John_K._Ousterhout', 'Nahum_Gershon', 'Henry_Fuchs', 'Ray_Haynes', 'James_D._Foley', 'Mira_Vossers', 'Mike_Fraser', 'Stephen_Pizer', 'Leonid_Ulitsky', 'Yoshinori_Hara', 'Aran_Lunzer', 'Edward_A._Fox', 'John_Lamping', 'Ernest_Retzel', 'Robert_K._France', 'Louis_C._Vroomen', 'G._Chen', 'Tamara_Munzner', 'Steven_R._Corman', 'Janusz_Wnek', 'Stuart_J._Rose', 'Doug_Schaffer', 'Wendy_E._Mackay', 'A._Schur', 'John_Michalak', 'J._Schwegler', 'J._Timlin', 'Lynette_Hirschman', 'P._Cotture', 'A._Pernicks', 'Christian_A._Duncan', 'Jeffrey_Joyce', 'Rachna_Dhamija', 'Monika_Büscher', 'Isaac_Brewer', 'Daniel_Haug', 'I._G._Angus', 'Lawrence_J._Rosenblum', 'J._Bertin', 'Usama_M._Fayyad', 'A._Varshney', 'Nina_Amenta', 'X._He', 'Kaj_Grønbæk', 'J._Q._Walker_II', 'Bernard_Dimsdale', 'Can_Keskin', 'Lennart_E._Fahlén', 'C._M._Pancake', 'Kevin_W._Boyack', 'K._Mani_Chandy', 'Julie_Yang-Peláez', 'David_Notkin', 'Jörn_Schneidewind', 'Joseph_L._Steffen', 'David_Dobkin', 'Julain_Ladisch', 'D._A._Carr', 'U._Wiss', 'J._Finger', 'D._Lantrip', 'D._Hackborn', 'J._Croall', 'J._Carriere', 'D._Loisel', 'Daniel_Bielser', 'Jules_Bloomenthal', 'Kenneth_M._Martin', 'Dorothea_Wagner', 'David_S._Kosbie', 'Mary_L._Bailey', 'Franz-Josef_Brandenburg', 'Kenneth_Marx', 'Al_Globus', 'Diane_Tang', 'Jon_Zou', 'Childrens_Press', 'A._Blake', 'David_Laidlaw', 'Thom_Grace', 'Matthias_Hemmje', 'J._Callahan', 'Clemens_Kunkel', 'Elizabeth_Shoop', 'Erik_Thomsen', 'Michelle_Q._Wang_Baldonado', 'Bernice_E._Rogowitz', 'D._J._Spiegelhalter', 'Yuan_Gao', 'Brenda_Laurel', 'Ryan_Baxter', 'Ryan_S._Baker', 'Ka-Ping_Yee', 'Naphtali_Rishe', 'Arne_Frick', 'R._Daniel_Bergeron', 'Henry_H._Rueter', 'Beth_Hetzler', 'Anders_S._Krogh', 'Phillip_Barry', 'Elliot_J._Chikofsky', 'Kevin_Biolsi', 'William_York', 'R._L._Winslow', 'Mark_Roseman', 'Scott_Henninger', 'Thomas_Hofmann', 'David_Proft', 'Clifford_Beshers', 'Ulrick_Barandes', 'Nicole_Yankelovich', 'George_W._Furnas', 'Dror_Zernik', 'Fred_Petry', 'S._Huang', 'Yuriko_Takeshima', 'Peter_Pirolli', 'John_Stasko', 'C._C._Taylor', 'Robert_J._K._Jacob', 'Lars_Erik_Holmquist', 'Yoshihiko_Ichikawa', 'Lenwood_S._Heath', 'Helmut_Doleisch', 'Eric_A._Bier', 'Young-Min_Song', 'Giuseppe_Di_Battista', 'M._Sheelagh_T._Carpendale', 'Catherine_Plaisant', 'Christos_Faloutsos', 'Bruce_Leban', 'Robert_L._Harris', 'Michael_Chen', 'Isabel_F._Cruz', 'Rolf_Koch', 'Boriana_Koleva', 'Jürgen_Branke', 'Dwayne_Westenskow', 'Norman_E._Fenton', 'Anton_Leuski', 'Jeffrey_D._Ullman', 'Edward_L._Robertson', 'M._Sheelagh', 'Fergus_J._Merritt', 'Eliot_Solomon', 'D._F._Jerding', 'Teresa_Mah', 'J._P._Lee', 'J._M._Hammer', 'E._Gawlinski', 'William_Ruh', 'Paul_Kruszewski', 'Thomas_Porter', 'Richard_Chimera', 'John_Kolojejchick', 'Cimarron_Taylor', 'Kevin_Larson', 'David_J._Cowperthwaite', 'James_Abello', 'Mary_Czerwinski', 'David_Banks', 'Andreas_Buja', 'Ron_Kohavi', 'Stephan_Kerpedjiev', 'Theo_Van_Walsum', 'David_C._Banks', 'Doanna_Meads', 'Takeo_Igarashi', 'Steve_Lawrence', 'Teuvo_Kohonen', 'Richard_C._Thomas', 'M._Manyin', 'Natasha_Gelfand', 'Ted_Tanasse', 'James_H._Cross_II', 'Edward_R._Van_Selow', 'Kan_Pimentel', 'Richard_M._Wilson', 'P._Luders', 'James_H._Clark', 'Albert_Badro', 'André_Skupin', 'P._J._Stroffolino', 'Charlie_McDowell', 'Carl_Meyer', 'Robert_Edsall', 'Eduard_Hovy', 'Klaus_Reichenberger', 'Dennis_Gannon', 'Byron_Dom', 'Lothar_Rostek', 'Jerome_H._Friedman', 'Robert_E._Sheehan', 'Raimund_Dachselt', 'Andrej_Cedilnik', 'Stefan_Zeiger', 'Thomas_Baudel', 'A._H._Crabb', 'Marti_Hearst', 'Dee_Jay_Randall', 'John_D._M._Edwards', 'Gwilym_Jenkins', 'John_H._Maloney', 'E._Hoffman', 'Scott_N._Woodfield', 'Anil_Nair', 'Guy_Melancon', 'Joachim_M._Buhmann', 'Murugappan_Palaniappan', 'Amjad_Daoud', 'Matthias_Kreuseler', 'Jim_Hollan', 'John_Hertz', 'John_V._Carlis', 'E._Bannai', 'Peter_Wisnovsky', 'P._Balasubramanian', 'John_F._Hughes', 'David_Turo', 'Paul_E._Haeberli', 'Stephen_M._Casner', 'Elliot_Soloway', 'Mao_Lin_Huang', 'Frank_Henigman', 'Jarke_J._van_Wijk', 'T._B._Walters', 'William_J._Weiland', 'Vinit_Jain', 'James_M._Kukla', 'Alfred_Inselberg', 'Robert_A._Shillner', 'Martin_Graham', 'Susanne_Jul', 'Michael_E._Houle', 'Kerry_Rodden', 'R._Orosco', 'Jade_Goldstein', 'David_Brailsford', 'N._Trichaud', 'N._S._Drew', 'Jeffrey_Senn', 'Jeff_Klingner', 'Charles_E._Jacobs', 'William_C._Cleveland', 'Justin_Zobel', 'Ewa_Callahan', 'James_K._Rayson', 'James_Harrison', 'W._Wright', 'William_H._Press', 'S._Dar', 'Jolly_Chen', 'Xiaolong_Zhang', 'Bastiaan_Schönhage', 'Joanna_Vasilakis', 'Caroline_Paxson', 'Penny_Rheingans', 'Bob_Spence', 'Robert_Bosch', 'Wei-Ying_Ma', 'Derick_Wood', 'William_C._Hill', 'Eugene_Zhang', 'Pearl_Pu', 'William_L._Hibbard', 'Suguru_Ishizaki', 'Paul_Chitson', 'Michael_Potmesil', 'W._B._Rouse', 'Bruce_E._Brown', 'D._Hopkins', 'Bill_Appelbe', 'David_Williams', 'Michael_Stonebraker', 'Brendan_Madden', 'Jürgen_Ebert', 'Frank_J._Post', 'Mary_M._Keller', 'R._Ernst', 'Peter_R._Keller', 'Patrick_Madden', 'Michael_T._Goodrich', 'Michael_Good', 'Donald_H._House', 'Doug_Kimelman', 'Marc_Abrams', 'Charles_E._Meyers', 'Adam_Finkelstein', 'Paolo_Sabella', 'Jeffrey_Korn', 'T._Shiota', 'Konrad_Slind', 'Lou_Martucci', 'David_Maier', 'Deborah_Silver', 'Andrew_Moore', 'Christopher_Ahlberg', 'Indranil_Chakravarty', 'Annemarie_Herrmann', 'Y._K._Leung', 'Wendy_Cowley', 'Tony_D._DeRose', 'Per-Kristian_Halvorsen', 'Rolf_Danielsson', 'Denis_Lalanne', 'David_J._Harper', 'John_A._Hartigan', 'Andrew_J._Hanson', 'Ken_Perlin', 'David_Jablonowski', 'Sandeep_Prabhakar', 'Guillermo_A._Averboch', 'Harpreet_Sawhney', 'Chandu_Karadi', 'A._Bookstein', 'P._Wolf', 'David_Steele', 'Marc_A._Najork', 'A._J._Kolojechick', 'J._Dodge', 'B._S._Manjunath', 'Guy_Melançon', 'Jonathan_D._Cohen', 'Divesh_Srivastava', 'Eugene_Stanley', 'Brian_Johnson', 'Saul_Greenberg', 'Mark_Derthick', 'K._Wenger', 'Qing-Wen_Feng', 'Camilla_Forsell', 'K.-P._Vo', 'Ehud_Rivlin', 'William_E._Lorensen', 'Pourang_Irani', 'Zhengping_Zuo', 'Donald_Michie', 'Ian_Taylor', 'Kreimir_Matkovic', 'Emden_R._Gansner', 'Suresh_K._Lodha', 'L._J._Johnston', 'Jim_Gray', 'Ryszard_S._Michalski', 'T._Lasinski', 'Jock_Mackinlay', 'Lee_Westover', 'Tyson_R._Henry', 'David_Harel', 'M._Li', 'Rajeev_Motwani', 'Zvi_Polunsky', 'Marcus_Haupt', 'Todd_Veldhuizen', 'Christian_Beilken', 'Robert_Sedgewick', 'Kyoko_Nakamura', 'Denis_Lee', 'Will_Schroeder', 'J._Tromp', 'James_E._Bennett', 'Isidore_Rigoutsos', 'Alan_Keahey', 'Greg_Ross', 'Werner_Stuetzle', 'Judy_Kay', 'Wolfgang_Müller', 'Monika_Büscher', 'Monica_Tavanti', 'N._Alper', 'Michael_F._Schwartz', 'Stuart_Card', 'Martin_Wattenberg', 'Martin_Juvan', 'FrankG._Halasz', 'Shelli_Dubs', 'Y._Alp_Aslandogan', 'D._Day', 'Ying-Huey_Fua', 'Stan_Letovsky', 'H._A._Sowizral', 'Hans-Peter_Krigel', 'Gregory_Piatetsky-Shapiro', 'James_Wen', 'Bojan_Mohar', 'Kevin_Smith', 'Tom_Dietterich', 'Philippe_Flajolet', 'Jeff_Beddow', 'Petros_Faloutsos', 'David_A._Patterson', 'M._Eduard_Gröller', 'Christine_Diehl', 'M._Scott_Marshall', 'Jan_Puzicha', 'Nelson_Max', 'Thomas_A._Joseph', 'Dachywan_Wu', 'Robert_Gurwitz', 'Luc_Beaudoin', 'Alfred_Kobsa', 'Emmanuel_Frécon', 'Thomas_Faulhaber_Jr.', 'Peter_Lucas', 'Marc_P._Stevens', 'Randy_L._Ribler', 'Eric_Lecolinet', 'Ben_G._H._Gorte', 'Jamie_D._Weber', 'Charles_Spirakis', 'Eric_Labow', 'John_Dill', 'Lynn_O._Wilson', 'William_S._Cleveland', 'Michael_Christensen', 'Sven_Fuhrmann', 'Stephen_G._Eick', 'John_L._Hennessy', 'Liujian_Qian', 'Steven_P._Reiss', 'Galina_Shubina', 'Bao_Gia_Nguyen', 'Mihael_Ankerst', 'Robert_Zeleznik', 'Yogesh_Gaur', 'Brian_P._Flannery', 'Michael_T._Heath', 'Ramasamy_Uthurusamy', 'J._H._Conway', 'Raghu_Ramakrishnan', 'Ira_Smotroff', 'Chiemi_Watanabe', 'Miguel_Santana', 'Michael_Davis', 'Frank_Drews', 'F._J._Newbery', 'Chris_Stolte', 'Robin_L._Kullberg', 'Loren_Carpenter', 'J._M._Hellerstein', 'Greg_Lomow', 'Marc_M._Sebrechts', 'José_L._Marroquín', 'Brett_Milash', 'Stephen_Wehrend', 'Peter_Eades', 'Robert_Ingram', 'Dennis_J._Brueni', 'Jesse_Grosjean', 'Allan_Tuan', 'Trung_A._Diep', 'Allen_D._Malony', 'David_Littman', 'David_H._Salesin', 'Bob_Deletto', 'David_Fox', 'Victoria_Interrante', 'J._S._Risch', 'Hua_Su', 'Patrick_Hoffman', 'Ed_H._Chi', 'Alex_P._Pentland', 'Stephen_C._North', 'Linda_C._van_der_Gaag', 'M._Pottier', 'Teresa_Bleser', 'B._D._Moon', 'Lance_Good', 'Ming_Hao', 'Umesh_Dayal', 'Nathan_Conklin', 'Dan_R._Olsen', 'T._Tenev', 'T._M._Rhyne', 'T._C._Sprenger', 'Laura_T._Ring', 'T._Carpendale', 'C._L._Bentley', 'Allison_Druin', 'Donald_Ervin_Knuth', 'Olov_Ståhl', 'Vuk_Ercegovac', 'Adam_Bosworth', 'T._T._Carey', 'Tova_Avidan', 'Padraic_Neville', 'Mikael_Jern', 'Susan_Havre', 'Tova_Roth', 'Kyuseok_Shim', 'Timothy_Briggs', 'M._Guzdial', 'Gerard_Salton', 'Johan_Redström', 'James_S._Collofello', 'C._S._Yang', 'Mats_Lind', 'Janet_M._Six', 'Jane_Wilhelms', 'John_Alan_McDonald', 'Claude_Frasson', 'Egemen_Tanin', 'Jim_Hafner', 'S._Lawande', 'Raymond_E._Barber', 'M._Delest', 'Oliver_Deussen', 'Pak_Chung_Wong', 'David_Kamins', 'John_V._Cugini', 'Thomas_Bemmerl', 'David_Thiel', 'Wayne_Niblack', 'Joshua_Levasseur', 'Parris_K._Egbert', 'Joseph_M._Ballay', 'Peter_G._Selfridge', 'David_Socha', 'Wiebke_Möhr', 'Mark_Gahegan', 'Achilleas_Papakostas', 'Stuart_Shieber', 'Georges_Grinstein', 'Richard_Beigel', 'G._Nigel_Martin', 'Chris_North', 'Mark_Handy', 'Kenneth_C._Yeager', 'Mendel_Rosenblum', 'Michael_Higgins', 'D._Mumford', 'Elke_A._Rundensteiner', 'Michael_J._Flynn', 'Ivo_Grosse', 'Matthew_O._Ward', 'Stuart_Pook', 'Liran_Carmel', 'Jim_Baker', 'Mybrid_Spalding', 'Michael_S._Miller', 'Johan_Redström', 'Patrick_Kenis', 'William_Buxton', 'Hausi_A._Müller', 'John_Riedl', 'George_G._Robertson', 'F._David_Fracchia', 'Stefan_Näher', 'Jianbo_Shi', 'Aaron_Quigley', 'Christopher_J._Kocmoud', 'Yigal_Arens', 'Reinhard_Sablowski', 'D._Brodbeck', 'Jason_I._Hong', 'Jean-Daniel_Fekete', 'Jussi_Karlgren', 'Pavel_Berkhin', 'Ken_Fishkin', 'Kurt_W._Piersol', 'Frank_van_Ham', 'Michalis_Faloutsos', 'J._Myllymaki', 'Andries_van_Dam', 'T._A._DeFanti', 'Preben_Mogensen', 'Jürgen_Koenemann', 'M._Campo', 'William_T._Vetterling', 'Kaushai_Dalal', 'C._Lee_Giles', 'Michael_Chu', 'M._D._Brown', 'Liqun_Jin', 'Chris_Walshaw', 'Maria_Shneerson', 'Robert_Kosara', 'N._J._A._Sloane', 'Gordon_Kurtenbach', 'Jean-Yves_Vion-Dury', 'S._T._Dowson', 'Charles_K._Nicholas', 'S._T._Klein', 'Mark_Lin', 'Scott_Meyers', 'Robert_L._Cook', 'Stephen_A_Herrod', 'Brian_E._Paul', 'Venky_Harinarayan', 'James_Robergé', 'R._A._May', 'Bruce_McKenzie', 'Irene_Finocchi', 'Christer_Carlsson', 'James_Allan', 'Padhraic_Smyth', 'Przemyslaw_Prusinkiewicz', 'J._Ross_Quinlan', 'Guang_R._Gao', 'Marc_H._Brown', 'Allan_R._Wilks', 'Khoa_Doan', 'Allan_Kuchinsky', 'Ben_Shneiderman', 'Marc_Alexa', 'E._Petajan', 'C._Levit', 'T._Raita', 'Chris_Greenhalgh', 'Michael_L._Dertouzos', 'Staffan_Björk', 'Ken_Pier']\n"
     ]
    },
    {
     "ename": "NameError",
     "evalue": "name 'xname' is not defined",
     "output_type": "error",
     "traceback": [
      "\u001b[1;31m---------------------------------------------------------------------------\u001b[0m",
      "\u001b[1;31mNameError\u001b[0m                                 Traceback (most recent call last)",
      "\u001b[1;32m<ipython-input-22-c858b574d80f>\u001b[0m in \u001b[0;36m<module>\u001b[1;34m()\u001b[0m\n\u001b[0;32m     29\u001b[0m \u001b[1;33m\u001b[0m\u001b[0m\n\u001b[0;32m     30\u001b[0m data=dict(\n\u001b[1;32m---> 31\u001b[1;33m     \u001b[0mxname\u001b[0m\u001b[1;33m=\u001b[0m\u001b[0mxname\u001b[0m\u001b[1;33m,\u001b[0m\u001b[1;33m\u001b[0m\u001b[1;33m\u001b[0m\u001b[0m\n\u001b[0m\u001b[0;32m     32\u001b[0m     \u001b[0myname\u001b[0m\u001b[1;33m=\u001b[0m\u001b[0myname\u001b[0m\u001b[1;33m,\u001b[0m\u001b[1;33m\u001b[0m\u001b[1;33m\u001b[0m\u001b[0m\n\u001b[0;32m     33\u001b[0m     \u001b[0mcolors\u001b[0m\u001b[1;33m=\u001b[0m\u001b[0mcolor\u001b[0m\u001b[1;33m,\u001b[0m\u001b[1;33m\u001b[0m\u001b[1;33m\u001b[0m\u001b[0m\n",
      "\u001b[1;31mNameError\u001b[0m: name 'xname' is not defined"
     ]
    }
   ],
   "source": [
    "import numpy as np\n",
    "\n",
    "from bokeh.plotting import figure, show, output_file\n",
    "from pandas import DataFrame, read_csv\n",
    "df = read_csv(\"C:/Users/20172901/OneDrive - TU Eindhoven/University/Year 2 Q4/DBL/GephiMatrix_author_similarity.csv\", sep=';', header=0, index_col=False)\n",
    "df = df.set_index('Unnamed: 0').T.rename_axis(None,1).rename_axis('Unnamed: 0').reset_index()\n",
    "#print(df)\n",
    "\n",
    "colormap = [\"#444444\", \"#a6cee3\", \"#1f78b4\", \"#b2df8a\", \"#33a02c\", \"#fb9a99\",\n",
    "            \"#e31a1c\", \"#fdbf6f\", \"#ff7f00\", \"#cab2d6\", \"#6a3d9a\"]\n",
    "\n",
    "nodes = df.corr().values\n",
    "labels=[]\n",
    "for i in df:\n",
    "    labels.append(i)\n",
    "del labels[0]\n",
    "\n",
    "names = labels  \n",
    "print(names)\n",
    "\n",
    "N = len(X) #number of correlations\n",
    "#counts = np.zeros((N, N)) #geen idee wat dit doet\n",
    "#print(counts) \n",
    "\n",
    "xname = []\n",
    "yname = []\n",
    "color = []\n",
    "alpha = []\n",
    "\n",
    "data=dict(\n",
    "    xname=xname,\n",
    "    yname=yname,\n",
    "    colors=color,\n",
    "    alphas=alpha,\n",
    "    count=counts.flatten(),\n",
    ")\n",
    "\n",
    "p = figure(title=\"Author Similarity\",\n",
    "           x_axis_location=\"above\", tools=\"hover,save\",\n",
    "           x_range=list(reversed(labels)), y_range=labels,\n",
    "           tooltips = [('labels', '@yname, @xname'), ('count', '@count')])\n",
    "\n",
    "p.plot_width = 800\n",
    "p.plot_height = 800\n",
    "p.grid.grid_line_color = None\n",
    "p.axis.axis_line_color = None\n",
    "p.axis.major_tick_line_color = None\n",
    "p.axis.major_label_text_font_size = \"5pt\"\n",
    "p.axis.major_label_standoff = 0\n",
    "p.xaxis.major_label_orientation = np.pi/3\n",
    "\n",
    "p.rect('xname', 'yname', 0.9, 0.9, source=data,\n",
    "       color='colors', alpha='alphas', line_color=None,\n",
    "       hover_line_color='black', hover_color='colors')\n",
    "\n",
    "output_file(\"Author_similar.html\", title=\"Author_similar.py \")\n",
    "\n",
    "show(p) # show the plot\n"
   ]
  },
  {
   "cell_type": "code",
   "execution_count": null,
   "metadata": {
    "collapsed": true
   },
   "outputs": [],
   "source": []
  }
 ],
 "metadata": {
  "kernelspec": {
   "display_name": "Python 3",
   "language": "python",
   "name": "python3"
  },
  "language_info": {
   "codemirror_mode": {
    "name": "ipython",
    "version": 3
   },
   "file_extension": ".py",
   "mimetype": "text/x-python",
   "name": "python",
   "nbconvert_exporter": "python",
   "pygments_lexer": "ipython3",
   "version": "3.6.8"
  }
 },
 "nbformat": 4,
 "nbformat_minor": 2
}
