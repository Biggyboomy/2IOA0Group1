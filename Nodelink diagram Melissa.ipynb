{
 "cells": [
  {
   "cell_type": "code",
   "execution_count": null,
   "metadata": {},
   "outputs": [],
   "source": [
    "import numpy as np\n",
    "from pandas import DataFrame, read_csv\n",
    "import matplotlib\n",
    "import itertools\n",
    "import copy\n",
    "import networkx as nx\n",
    "import pandas as pd\n",
    "import matplotlib.pyplot as plt\n",
    "import holoviews as hv\n",
    "from holoviews import opts\n",
    "hv.extension('bokeh')\n",
    "\n",
    "# bokeh packages\n",
    "from bokeh.io import output_file,show,output_notebook,push_notebook\n",
    "from bokeh.plotting import figure\n",
    "from bokeh.models import ColumnDataSource,HoverTool,CategoricalColorMapper\n",
    "from bokeh.layouts import row,column,gridplot\n",
    "from bokeh.models.widgets import Tabs,Panel\n",
    "output_notebook()\n",
    "\n",
    "\n",
    "#load csv data file\n",
    "f = \"C:/Users/s168615/Documents/2IOA0 DBL HTI + webtech/GephiMatrix_author_similarity.csv\" \n",
    "df = read_csv(f, sep=';', header=0, index_col=False)\n",
    "df = df.set_index(\"Unnamed: 0\")\n",
    "\n",
    "#declare nodes\n",
    "nodes_df = df.iloc[:0]\n",
    "#creates one array of all the names\n",
    "\n",
    "#declare edges\n",
    "edges_df =  df.corr().values\n",
    "#creates one array of values per name. That is probably why it doesn't link well with the nodes\n",
    "\n",
    "\n",
    "\n",
    "#do stuff (make the node-link diagram)\n",
    "nodes = hv.Nodes(nodes_df).sort()\n",
    "graph = hv.Graph((edges_df, nodes), label='Node-link diagram')\n",
    "\n",
    "colors = ['#000000']+hv.Cycle('Category20').values\n",
    "graph = graph.redim.range(x=(-0.05, 1.05), \n",
    "                                y=(-0.05, 1.05)\n",
    "                               )\n",
    "graph.opts(color_index='circle', width=800, height=800, show_frame=False,\n",
    "                 xaxis=None, yaxis=None,node_size=10, edge_line_width=1, cmap=colors)\n",
    "\n",
    "\n"
   ]
  },
  {
   "cell_type": "code",
   "execution_count": null,
   "metadata": {},
   "outputs": [],
   "source": []
  }
 ],
 "metadata": {
  "kernelspec": {
   "display_name": "Python 3",
   "language": "python",
   "name": "python3"
  },
  "language_info": {
   "codemirror_mode": {
    "name": "ipython",
    "version": 3
   },
   "file_extension": ".py",
   "mimetype": "text/x-python",
   "name": "python",
   "nbconvert_exporter": "python",
   "pygments_lexer": "ipython3",
   "version": "3.7.0"
  }
 },
 "nbformat": 4,
 "nbformat_minor": 2
}
