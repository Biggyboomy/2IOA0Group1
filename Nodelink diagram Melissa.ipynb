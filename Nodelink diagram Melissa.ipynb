{
 "cells": [
  {
   "cell_type": "code",
   "execution_count": null,
   "metadata": {},
   "outputs": [],
   "source": [
    "import numpy as np\n",
    "from pandas import DataFrame, read_csv\n",
    "import networkx as nx\n",
    "import pandas as pd\n",
    "import matplotlib.pyplot as plt\n",
    "import holoviews as hv\n",
    "\n",
    "hv.extension('bokeh', 'matplotlib')\n",
    "\n",
    "from bokeh.models import (CategoricalColorMapper, HoverTool, ColumnDataSource, Panel, FuncTickFormatter, \n",
    "SingleIntervalTicker, LinearAxis, Plot, Range1d, MultiLine, Circle, HoverTool, TapTool, BoxSelectTool,  \n",
    "BoxZoomTool, ResetTool)\n",
    "from bokeh.io import show, output_file\n",
    "from bokeh.plotting import figure\n",
    "from bokeh.models.graphs import from_networkx\n",
    "from bokeh.models.graphs import from_networkx, NodesAndLinkedEdges, EdgesAndLinkedNodes\n",
    "from bokeh.models.widgets import (CheckboxGroup, Slider, RangeSlider, Tabs, CheckboxButtonGroup, \n",
    "                                  TableColumn, DataTable, Select)\n",
    "from bokeh.palettes import Spectral4\n",
    "\n",
    "#load csv data file\n",
    "#f = \"C:/Users/s168615/Documents/2IOA0 DBL HTI + webtech/GephiMatrix_author_similarity.csv\" \n",
    "df = read_csv(\"GephiMatrix_author_similarity.csv\", sep=';', header=0, index_col=False)\n",
    "df = df.set_index('Unnamed: 0').T.rename_axis(None,1).rename_axis('Unnamed: 0').reset_index()\n",
    "#print(df)\n",
    "\n",
    "edges = pd.DataFrame(columns=['start','ends', 'weight'])\n",
    "length = df.shape[1]\n",
    "k = 0\n",
    "l = 1\n",
    "\n",
    "\"\"\"\"\n",
    "while k < length:\n",
    "    \n",
    "    edges['start'] = df.iloc[k,0]\n",
    "    if df.iloc[k,l] > 0 < 1:\n",
    "        weight = df.iloc[k,l]\n",
    "        edges['ends'] = df.iloc[l,0]\n",
    "    l = l+1\n",
    "k = k+1\n",
    "\n",
    "\"\"\"\n",
    "edges['start'] = df.iloc[k,0]\n",
    "print(edges['start'])\n",
    "\n",
    "\n"
   ]
  },
  {
   "cell_type": "code",
   "execution_count": null,
   "metadata": {},
   "outputs": [],
   "source": []
  }
 ],
 "metadata": {
  "kernelspec": {
   "display_name": "Python 3",
   "language": "python",
   "name": "python3"
  }
 },
 "nbformat": 4,
 "nbformat_minor": 2
}
